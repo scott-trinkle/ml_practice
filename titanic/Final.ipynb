{
 "cells": [
  {
   "cell_type": "markdown",
   "metadata": {},
   "source": [
    "# Intro\n",
    "\n",
    "Here, we take the models generated in 'Models.ipynb' and evaluate their performance using accuracy and the ROC curve. We also explore voting classifiers that form a prediction based on a weighted input of predictions from all the other models."
   ]
  },
  {
   "cell_type": "markdown",
   "metadata": {},
   "source": [
    "# Load packages"
   ]
  },
  {
   "cell_type": "code",
   "execution_count": 1,
   "metadata": {},
   "outputs": [],
   "source": [
    "# Saving models\n",
    "import joblib\n",
    "\n",
    "# Data manipulation\n",
    "import numpy as np\n",
    "import pandas as pd \n",
    "\n",
    "# Visualization\n",
    "import matplotlib.pyplot as plt\n",
    "%matplotlib inline\n",
    "\n",
    "# Model evaluation\n",
    "from sklearn.model_selection import StratifiedKFold\n",
    "from sklearn.metrics import auc, roc_curve\n",
    "from sklearn.ensemble import VotingClassifier"
   ]
  },
  {
   "cell_type": "markdown",
   "metadata": {},
   "source": [
    "# Load data\n",
    "\n",
    "Separate back into train and test (i.e. submission) sets"
   ]
  },
  {
   "cell_type": "code",
   "execution_count": 2,
   "metadata": {},
   "outputs": [],
   "source": [
    "df = pd.read_csv('./data/df_full.csv',index_col='PassengerId')\n",
    "\n",
    "tr = ~df['Survived'].isnull()\n",
    "\n",
    "y = df[tr]['Survived'].to_numpy().astype(int)\n",
    "X = df[tr].drop('Survived',1)\n",
    "\n",
    "sub = df[~tr].drop('Survived',1)"
   ]
  },
  {
   "cell_type": "markdown",
   "metadata": {},
   "source": [
    "# Load models\n",
    "\n",
    "Reload models generated in an earlier notebook and save them in a list."
   ]
  },
  {
   "cell_type": "code",
   "execution_count": 3,
   "metadata": {},
   "outputs": [],
   "source": [
    "knn = joblib.load('./models/best_knn.joblib')\n",
    "logreg = joblib.load('./models/best_logreg.joblib')\n",
    "svc = joblib.load('./models/best_svc.joblib')\n",
    "rf = joblib.load('./models/best_rf.joblib')\n",
    "xgb = joblib.load('./models/best_xgb.joblib')\n",
    "\n",
    "models = [knn,logreg,svc,rf,xgb]\n",
    "model_names = ['knn','logreg','svc','rf','xgb']"
   ]
  },
  {
   "cell_type": "markdown",
   "metadata": {},
   "source": [
    "# Evaluate accuracy\n",
    "\n",
    "Here we iterate through the models and evaluate their accuracy using a stratified 10-fold split."
   ]
  },
  {
   "cell_type": "code",
   "execution_count": 4,
   "metadata": {},
   "outputs": [
    {
     "name": "stdout",
     "output_type": "stream",
     "text": [
      "knn : 0.8238 +- 0.0408\n",
      "logreg : 0.8362 +- 0.0302\n",
      "svc : 0.8418 +- 0.0302\n",
      "rf : 0.8429 +- 0.0340\n",
      "xgb : 0.8451 +- 0.0335\n"
     ]
    }
   ],
   "source": [
    "mean_accs = []\n",
    "for i in range(len(models)):\n",
    "    name = model_names[i]\n",
    "    model = models[i]\n",
    "\n",
    "    acc = []\n",
    "    \n",
    "    for j, (train, test) in enumerate(StratifiedKFold(10).split(X,y)):\n",
    "        fold_clf = model.fit(X.iloc[train],y[train])\n",
    "        acc.append(fold_clf.score(X.iloc[test],y[test]))\n",
    "        \n",
    "    mean_acc = np.mean(acc)\n",
    "    mean_accs.append(mean_acc)\n",
    "    std_acc = np.std(acc)\n",
    "    print(f'{name} : {mean_acc:.4f} +- {std_acc:.4f}')"
   ]
  },
  {
   "cell_type": "markdown",
   "metadata": {},
   "source": [
    "## Results\n",
    "\n",
    "The XGBoost model had the highest average accuracy, followed by random forest, SVC, logistic regression, and KNN. "
   ]
  },
  {
   "cell_type": "markdown",
   "metadata": {},
   "source": [
    "# Voting classifiers\n",
    "\n",
    "Let's see if we can improve performance by using a voting classifier. We will look at two approaches: \"hard\" voting, which assigns classes based on majority votes of all classifiers, and \"soft\" voting which assigns weighted probabilities from each classifier towards each class - in this case weighted by the mean accuracy of each classifier acting alone. The label with the highest sum of weighted probabilities is the prediction."
   ]
  },
  {
   "cell_type": "code",
   "execution_count": 5,
   "metadata": {},
   "outputs": [],
   "source": [
    "vc_hard = VotingClassifier(estimators = [(name, model) for name, model in zip(model_names, models)],\n",
    "                     voting='hard',\n",
    "                     n_jobs=32)\n",
    "vc_hard.fit(X,y);\n",
    "\n",
    "vc_soft = VotingClassifier(estimators = [(name, model) for name, model in zip(model_names, models)],\n",
    "                     voting='soft',\n",
    "                     weights=mean_accs,\n",
    "                     n_jobs=32)\n",
    "vc_soft.fit(X,y);"
   ]
  },
  {
   "cell_type": "markdown",
   "metadata": {},
   "source": [
    "Let's see the accuracy of the voting classifiers:"
   ]
  },
  {
   "cell_type": "code",
   "execution_count": 6,
   "metadata": {},
   "outputs": [
    {
     "name": "stdout",
     "output_type": "stream",
     "text": [
      "vc_hard : 0.8429 +- 0.0308\n",
      "vc_soft : 0.8418 +- 0.0294\n"
     ]
    }
   ],
   "source": [
    "for model, name in zip([vc_hard, vc_soft],['vc_hard','vc_soft']):\n",
    "\n",
    "    acc = []\n",
    "    \n",
    "    for j, (train, test) in enumerate(StratifiedKFold(10).split(X,y)):\n",
    "        fold_clf = model.fit(X.iloc[train],y[train])\n",
    "        acc.append(fold_clf.score(X.iloc[test],y[test]))\n",
    "        \n",
    "    mean_acc = np.mean(acc)\n",
    "    std_acc = np.std(acc)\n",
    "    print(f'{name} : {mean_acc:.4f} +- {std_acc:.4f}')"
   ]
  },
  {
   "cell_type": "markdown",
   "metadata": {},
   "source": [
    "## Results\n",
    "\n",
    "Here, the voting classifiers actually both performed slightly worse than the XGBoost classifier acting alone. In this case, the contributions from the weaker classifiers diluted the performance of the best individual classifier.\n",
    "\n",
    "Moving on, we save the voting classifiers and add them to our list of models:"
   ]
  },
  {
   "cell_type": "code",
   "execution_count": 7,
   "metadata": {},
   "outputs": [],
   "source": [
    "joblib.dump(vc_hard, 'models/best_vchard.joblib')\n",
    "joblib.dump(vc_soft, 'models/best_vcsoft.joblib')\n",
    "\n",
    "model_names = model_names + ['vchard','vcsoft']\n",
    "models = models + [vc_hard, vc_soft];"
   ]
  },
  {
   "cell_type": "markdown",
   "metadata": {},
   "source": [
    "# ROC Analysis\n",
    "\n",
    "For another evaluation, we use each classifier to construct ROC curves, evaluating the tradeoff in false positive fraction and true positive fraction as a function of the decision function. The ROC curves can be summarized by the area-under-the-curve (AUC) metric, where a value of 0.5 indicates random guessing, and 1.0 is perfect classification. (Note that the hard-voting classifier is ignored for this metric as it does not provide a target label probability)"
   ]
  },
  {
   "cell_type": "code",
   "execution_count": 8,
   "metadata": {
    "scrolled": false
   },
   "outputs": [
    {
     "data": {
      "image/png": "[encoded data removed]",
      "text/plain": [
       "<Figure size 432x432 with 1 Axes>"
      ]
     },
     "metadata": {
      "needs_background": "light"
     },
     "output_type": "display_data"
    }
   ],
   "source": [
    "fig, ax = plt.subplots(figsize=(6,6))\n",
    "ax.plot([0,1],[0,1],'k:')\n",
    "\n",
    "fpr = np.linspace(0,1,100)\n",
    "for i in range(len(models)):\n",
    "    name = model_names[i]\n",
    "    model = models[i]\n",
    "        \n",
    "    tprs = []\n",
    "    aucs = []\n",
    "    \n",
    "    for j, (train, test) in enumerate(StratifiedKFold(10).split(X,y)):\n",
    "        fold_clf = model.fit(X.iloc[train],y[train])\n",
    "        if name != 'vchard':\n",
    "            fold_fpr, fold_tpr, _ = roc_curve(y[test], fold_clf.predict_proba(X.iloc[test])[:, 1])\n",
    "            interp_tpr = np.interp(fpr,fold_fpr,fold_tpr)\n",
    "            interp_tpr[0] = 0.0\n",
    "            tprs.append(interp_tpr)\n",
    "            aucs.append(auc(fold_fpr,fold_tpr))\n",
    "        \n",
    "        \n",
    "    if name != 'vchard':\n",
    "        mean_tpr = np.mean(tprs,axis=0)\n",
    "        mean_tpr[-1] = 1.0\n",
    "        mean_auc = auc(fpr, mean_tpr)\n",
    "        std_auc = np.std(aucs)\n",
    "\n",
    "        ax.plot(fpr, mean_tpr, \n",
    "                label=f\"{name}: {mean_auc:.3f} +- {std_auc:.3f}\",\n",
    "                color=f'C{i}')\n",
    "\n",
    "ax.set_title(\"ROC Curve\",fontsize=16)\n",
    "ax.set_xlabel(\"FPR\",fontsize=14)\n",
    "ax.set_ylabel(\"TPR\",fontsize=14)\n",
    "ax.set_xlim([-0.025,1.025])\n",
    "ax.set_ylim([-0.025,1.025])\n",
    "ax.set_aspect('equal')\n",
    "ax.legend(loc=\"best\")\n",
    "fig.tight_layout();"
   ]
  },
  {
   "cell_type": "markdown",
   "metadata": {},
   "source": [
    "## Results\n",
    "\n",
    "Once again, the XGBoost led to the best performance, indicated by the highest AUC metric."
   ]
  },
  {
   "cell_type": "markdown",
   "metadata": {},
   "source": [
    "# Submission\n",
    "\n",
    "To wrap things up, we use all of our models to make predictions about the test set and save our results to .csv files for submission to kaggle. "
   ]
  },
  {
   "cell_type": "code",
   "execution_count": 9,
   "metadata": {},
   "outputs": [],
   "source": [
    "for i in range(len(models)):\n",
    "    model = models[i]\n",
    "    model.fit(X,y)\n",
    "    pred = pd.DataFrame()\n",
    "    pred['PassengerId'] = sub.index\n",
    "    pred['Survived'] = model.predict(sub)\n",
    "    pred.to_csv(f'./submissions/{model_names[i]}_final.csv',index=False)"
   ]
  }
 ],
 "metadata": {
  "kernelspec": {
   "display_name": "Python 3",
   "language": "python",
   "name": "python3"
  },
  "language_info": {
   "codemirror_mode": {
    "name": "ipython",
    "version": 3
   },
   "file_extension": ".py",
   "mimetype": "text/x-python",
   "name": "python",
   "nbconvert_exporter": "python",
   "pygments_lexer": "ipython3",
   "version": "3.7.9"
  }
 },
 "nbformat": 4,
 "nbformat_minor": 4
}
