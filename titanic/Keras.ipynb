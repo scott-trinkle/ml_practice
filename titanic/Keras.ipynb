{
 "cells": [
  {
   "cell_type": "code",
   "execution_count": 8,
   "metadata": {},
   "outputs": [],
   "source": [
    "import joblib\n",
    "import numpy as np\n",
    "import pandas as pd\n",
    "import matplotlib.pyplot as plt\n",
    "from sklearn.pipeline import Pipeline\n",
    "from sklearn.compose import ColumnTransformer\n",
    "from sklearn.model_selection import StratifiedShuffleSplit, StratifiedKFold,RandomizedSearchCV, cross_val_score\n",
    "from sklearn.feature_selection import SelectPercentile\n",
    "from sklearn.preprocessing import StandardScaler, MinMaxScaler, PolynomialFeatures\n",
    "from sklearn.metrics import accuracy_score,roc_curve, roc_auc_score,auc\n",
    "from scipy import stats\n",
    "\n",
    "import warnings\n",
    "warnings.filterwarnings('ignore',category=DeprecationWarning)\n",
    "import keras\n",
    "from keras.models import Sequential\n",
    "from keras.layers import Dense, Dropout\n",
    "from keras.wrappers.scikit_learn import KerasClassifier"
   ]
  },
  {
   "cell_type": "code",
   "execution_count": 2,
   "metadata": {
    "scrolled": true
   },
   "outputs": [
    {
     "data": {
      "text/html": [
       "<div>\n",
       "<style scoped>\n",
       "    .dataframe tbody tr th:only-of-type {\n",
       "        vertical-align: middle;\n",
       "    }\n",
       "\n",
       "    .dataframe tbody tr th {\n",
       "        vertical-align: top;\n",
       "    }\n",
       "\n",
       "    .dataframe thead th {\n",
       "        text-align: right;\n",
       "    }\n",
       "</style>\n",
       "<table border=\"1\" class=\"dataframe\">\n",
       "  <thead>\n",
       "    <tr style=\"text-align: right;\">\n",
       "      <th></th>\n",
       "      <th>Survived</th>\n",
       "      <th>Pclass</th>\n",
       "      <th>Age</th>\n",
       "      <th>SibSp</th>\n",
       "      <th>Parch</th>\n",
       "      <th>TicketFreq</th>\n",
       "      <th>Sex_female</th>\n",
       "      <th>Title_Mrs</th>\n",
       "      <th>Title_Ms</th>\n",
       "      <th>Title_Sir/Lady</th>\n",
       "      <th>...</th>\n",
       "      <th>CabinLetter_G</th>\n",
       "      <th>CabinLetter_T</th>\n",
       "      <th>CabinLetter_X</th>\n",
       "      <th>FamilySurvival_0.0</th>\n",
       "      <th>FamilySurvival_0.5</th>\n",
       "      <th>FamilySurvival_1.0</th>\n",
       "      <th>Embarked_0</th>\n",
       "      <th>Embarked_1</th>\n",
       "      <th>Embarked_2</th>\n",
       "      <th>FareBin</th>\n",
       "    </tr>\n",
       "    <tr>\n",
       "      <th>PassengerId</th>\n",
       "      <th></th>\n",
       "      <th></th>\n",
       "      <th></th>\n",
       "      <th></th>\n",
       "      <th></th>\n",
       "      <th></th>\n",
       "      <th></th>\n",
       "      <th></th>\n",
       "      <th></th>\n",
       "      <th></th>\n",
       "      <th></th>\n",
       "      <th></th>\n",
       "      <th></th>\n",
       "      <th></th>\n",
       "      <th></th>\n",
       "      <th></th>\n",
       "      <th></th>\n",
       "      <th></th>\n",
       "      <th></th>\n",
       "      <th></th>\n",
       "      <th></th>\n",
       "    </tr>\n",
       "  </thead>\n",
       "  <tbody>\n",
       "    <tr>\n",
       "      <th>1</th>\n",
       "      <td>0.0</td>\n",
       "      <td>3.0</td>\n",
       "      <td>22.0</td>\n",
       "      <td>1.0</td>\n",
       "      <td>0.0</td>\n",
       "      <td>1.0</td>\n",
       "      <td>0.0</td>\n",
       "      <td>0.0</td>\n",
       "      <td>0.0</td>\n",
       "      <td>0.0</td>\n",
       "      <td>...</td>\n",
       "      <td>0.0</td>\n",
       "      <td>0.0</td>\n",
       "      <td>1.0</td>\n",
       "      <td>0.0</td>\n",
       "      <td>1.0</td>\n",
       "      <td>0.0</td>\n",
       "      <td>0</td>\n",
       "      <td>0</td>\n",
       "      <td>1</td>\n",
       "      <td>0</td>\n",
       "    </tr>\n",
       "    <tr>\n",
       "      <th>2</th>\n",
       "      <td>1.0</td>\n",
       "      <td>1.0</td>\n",
       "      <td>38.0</td>\n",
       "      <td>1.0</td>\n",
       "      <td>0.0</td>\n",
       "      <td>2.0</td>\n",
       "      <td>1.0</td>\n",
       "      <td>1.0</td>\n",
       "      <td>0.0</td>\n",
       "      <td>0.0</td>\n",
       "      <td>...</td>\n",
       "      <td>0.0</td>\n",
       "      <td>0.0</td>\n",
       "      <td>0.0</td>\n",
       "      <td>0.0</td>\n",
       "      <td>1.0</td>\n",
       "      <td>0.0</td>\n",
       "      <td>1</td>\n",
       "      <td>0</td>\n",
       "      <td>0</td>\n",
       "      <td>11</td>\n",
       "    </tr>\n",
       "    <tr>\n",
       "      <th>3</th>\n",
       "      <td>1.0</td>\n",
       "      <td>3.0</td>\n",
       "      <td>26.0</td>\n",
       "      <td>0.0</td>\n",
       "      <td>0.0</td>\n",
       "      <td>1.0</td>\n",
       "      <td>1.0</td>\n",
       "      <td>0.0</td>\n",
       "      <td>1.0</td>\n",
       "      <td>0.0</td>\n",
       "      <td>...</td>\n",
       "      <td>0.0</td>\n",
       "      <td>0.0</td>\n",
       "      <td>1.0</td>\n",
       "      <td>0.0</td>\n",
       "      <td>1.0</td>\n",
       "      <td>0.0</td>\n",
       "      <td>0</td>\n",
       "      <td>0</td>\n",
       "      <td>1</td>\n",
       "      <td>3</td>\n",
       "    </tr>\n",
       "    <tr>\n",
       "      <th>4</th>\n",
       "      <td>1.0</td>\n",
       "      <td>1.0</td>\n",
       "      <td>35.0</td>\n",
       "      <td>1.0</td>\n",
       "      <td>0.0</td>\n",
       "      <td>2.0</td>\n",
       "      <td>1.0</td>\n",
       "      <td>1.0</td>\n",
       "      <td>0.0</td>\n",
       "      <td>0.0</td>\n",
       "      <td>...</td>\n",
       "      <td>0.0</td>\n",
       "      <td>0.0</td>\n",
       "      <td>0.0</td>\n",
       "      <td>1.0</td>\n",
       "      <td>0.0</td>\n",
       "      <td>0.0</td>\n",
       "      <td>0</td>\n",
       "      <td>0</td>\n",
       "      <td>1</td>\n",
       "      <td>10</td>\n",
       "    </tr>\n",
       "    <tr>\n",
       "      <th>5</th>\n",
       "      <td>0.0</td>\n",
       "      <td>3.0</td>\n",
       "      <td>35.0</td>\n",
       "      <td>0.0</td>\n",
       "      <td>0.0</td>\n",
       "      <td>1.0</td>\n",
       "      <td>0.0</td>\n",
       "      <td>0.0</td>\n",
       "      <td>0.0</td>\n",
       "      <td>0.0</td>\n",
       "      <td>...</td>\n",
       "      <td>0.0</td>\n",
       "      <td>0.0</td>\n",
       "      <td>1.0</td>\n",
       "      <td>0.0</td>\n",
       "      <td>1.0</td>\n",
       "      <td>0.0</td>\n",
       "      <td>0</td>\n",
       "      <td>0</td>\n",
       "      <td>1</td>\n",
       "      <td>3</td>\n",
       "    </tr>\n",
       "  </tbody>\n",
       "</table>\n",
       "<p>5 rows × 26 columns</p>\n",
       "</div>"
      ],
      "text/plain": [
       "             Survived  Pclass   Age  SibSp  Parch  TicketFreq  Sex_female  \\\n",
       "PassengerId                                                                 \n",
       "1                 0.0     3.0  22.0    1.0    0.0         1.0         0.0   \n",
       "2                 1.0     1.0  38.0    1.0    0.0         2.0         1.0   \n",
       "3                 1.0     3.0  26.0    0.0    0.0         1.0         1.0   \n",
       "4                 1.0     1.0  35.0    1.0    0.0         2.0         1.0   \n",
       "5                 0.0     3.0  35.0    0.0    0.0         1.0         0.0   \n",
       "\n",
       "             Title_Mrs  Title_Ms  Title_Sir/Lady  ...  CabinLetter_G  \\\n",
       "PassengerId                                       ...                  \n",
       "1                  0.0       0.0             0.0  ...            0.0   \n",
       "2                  1.0       0.0             0.0  ...            0.0   \n",
       "3                  0.0       1.0             0.0  ...            0.0   \n",
       "4                  1.0       0.0             0.0  ...            0.0   \n",
       "5                  0.0       0.0             0.0  ...            0.0   \n",
       "\n",
       "             CabinLetter_T  CabinLetter_X  FamilySurvival_0.0  \\\n",
       "PassengerId                                                     \n",
       "1                      0.0            1.0                 0.0   \n",
       "2                      0.0            0.0                 0.0   \n",
       "3                      0.0            1.0                 0.0   \n",
       "4                      0.0            0.0                 1.0   \n",
       "5                      0.0            1.0                 0.0   \n",
       "\n",
       "             FamilySurvival_0.5  FamilySurvival_1.0  Embarked_0  Embarked_1  \\\n",
       "PassengerId                                                                   \n",
       "1                           1.0                 0.0           0           0   \n",
       "2                           1.0                 0.0           1           0   \n",
       "3                           1.0                 0.0           0           0   \n",
       "4                           0.0                 0.0           0           0   \n",
       "5                           1.0                 0.0           0           0   \n",
       "\n",
       "             Embarked_2  FareBin  \n",
       "PassengerId                       \n",
       "1                     1        0  \n",
       "2                     0       11  \n",
       "3                     1        3  \n",
       "4                     1       10  \n",
       "5                     1        3  \n",
       "\n",
       "[5 rows x 26 columns]"
      ]
     },
     "execution_count": 2,
     "metadata": {},
     "output_type": "execute_result"
    }
   ],
   "source": [
    "df = pd.read_csv('./data/df_full.csv',index_col='PassengerId')\n",
    "df.head()"
   ]
  },
  {
   "cell_type": "code",
   "execution_count": 3,
   "metadata": {},
   "outputs": [],
   "source": [
    "tr = ~df['Survived'].isnull()\n",
    "\n",
    "y = df[tr]['Survived'].to_numpy().astype(int)\n",
    "X = df[tr].drop('Survived',1)\n",
    "\n",
    "sub = df[~tr].drop('Survived',1)\n",
    "\n",
    "num_cols = ['Age','SibSp','Parch','Pclass','TicketFreq','FareBin']\n",
    "cat_cols = list(df.columns.difference(num_cols))"
   ]
  },
  {
   "cell_type": "code",
   "execution_count": 4,
   "metadata": {},
   "outputs": [],
   "source": [
    "standard_sc = ColumnTransformer(transformers=[('num', StandardScaler(), num_cols)],remainder='passthrough')\n",
    "\n",
    "pipe = Pipeline(steps=[\n",
    "    ('sc', standard_sc),\n",
    "    #('feat', PolynomialFeatures(interaction_only=True))\n",
    "])\n",
    "\n",
    "X_tr = pipe.fit_transform(X,y)\n",
    "X_te = pipe.transform(sub)"
   ]
  },
  {
   "cell_type": "code",
   "execution_count": 5,
   "metadata": {},
   "outputs": [],
   "source": [
    "def create_baseline():\n",
    "    model = Sequential()\n",
    "    model.add(Dense(9,input_dim=X_tr.shape[1], activation='relu'))\n",
    "    #model.add(Dropout(0.2))\n",
    "    #model.add(Dense(9,activation='relu'))\n",
    "    #model.add(Dropout(0.2))\n",
    "    model.add(Dense(5, activation='relu'))\n",
    "    model.add(Dense(1,activation='sigmoid'))\n",
    "    model.compile(loss='binary_crossentropy',optimizer='adam',metrics=['accuracy'])\n",
    "    return model "
   ]
  },
  {
   "cell_type": "code",
   "execution_count": 6,
   "metadata": {
    "scrolled": true
   },
   "outputs": [
    {
     "name": "stdout",
     "output_type": "stream",
     "text": [
      "WARNING:tensorflow:From /Users/scotttrinkle/anaconda3/envs/tf/lib/python3.7/site-packages/tensorflow/python/ops/nn_impl.py:180: add_dispatch_support.<locals>.wrapper (from tensorflow.python.ops.array_ops) is deprecated and will be removed in a future version.\n",
      "Instructions for updating:\n",
      "Use tf.where in 2.0, which has the same broadcast rule as np.where\n",
      "Model: \"sequential_1\"\n",
      "_________________________________________________________________\n",
      "Layer (type)                 Output Shape              Param #   \n",
      "=================================================================\n",
      "dense_1 (Dense)              (None, 9)                 234       \n",
      "_________________________________________________________________\n",
      "dense_2 (Dense)              (None, 5)                 50        \n",
      "_________________________________________________________________\n",
      "dense_3 (Dense)              (None, 1)                 6         \n",
      "=================================================================\n",
      "Total params: 290\n",
      "Trainable params: 290\n",
      "Non-trainable params: 0\n",
      "_________________________________________________________________\n"
     ]
    }
   ],
   "source": [
    "create_baseline().summary()"
   ]
  },
  {
   "cell_type": "code",
   "execution_count": 11,
   "metadata": {},
   "outputs": [],
   "source": [
    "clf = KerasClassifier(build_fn=create_baseline, epochs=200, batch_size=32, verbose=0,workers=4)\n",
    "#cv = StratifiedShuffleSplit(n_splits=5, train_size=0.8, random_state=49)\n",
    "#results = cross_val_score(clf, X_tr, y, cv=cv, n_jobs=-1,verbose=1)"
   ]
  },
  {
   "cell_type": "code",
   "execution_count": 202,
   "metadata": {},
   "outputs": [
    {
     "data": {
      "text/plain": [
       "'CV accuracy: 0.848 +- 0.027'"
      ]
     },
     "execution_count": 202,
     "metadata": {},
     "output_type": "execute_result"
    }
   ],
   "source": [
    "f'CV accuracy: {results.mean():.3f} +- {results.std():.3f}'"
   ]
  },
  {
   "cell_type": "code",
   "execution_count": 14,
   "metadata": {},
   "outputs": [
    {
     "name": "stdout",
     "output_type": "stream",
     "text": [
      "1\n",
      "2\n",
      "3\n",
      "4\n",
      "5\n",
      "Mean acc: 0.8305 +- 0.0154\n"
     ]
    },
    {
     "data": {
      "image/png": "[encoded data removed]",
      "text/plain": [
       "<Figure size 432x432 with 1 Axes>"
      ]
     },
     "metadata": {
      "needs_background": "light"
     },
     "output_type": "display_data"
    }
   ],
   "source": [
    "fpr = np.linspace(0,1,100)\n",
    "mean_accs = []\n",
    "        \n",
    "tprs = []\n",
    "aucs = []\n",
    "acc = []\n",
    "    \n",
    "for j, (train, test) in enumerate(StratifiedKFold(5).split(X_tr,y)):\n",
    "    print(j+1)\n",
    "    fold_clf = clf.fit(X_tr[train],y[train],batch_size = 32, epochs = 200,verbose=0,shuffle=True,\n",
    "         workers=4)\n",
    "    acc.append(accuracy_score(y[test],clf.predict(X_tr[test])))\n",
    "    fold_fpr, fold_tpr, _ = roc_curve(y[test], clf.predict_proba(X_tr[test])[:, 1])\n",
    "    interp_tpr = np.interp(fpr,fold_fpr,fold_tpr)\n",
    "    interp_tpr[0] = 0.0\n",
    "    tprs.append(interp_tpr)\n",
    "    aucs.append(auc(fold_fpr,fold_tpr))\n",
    "    \n",
    "fig, ax = plt.subplots(figsize=(6,6))\n",
    "ax.plot([0,1],[0,1],'k:')\n",
    "\n",
    "mean_acc = np.mean(acc)\n",
    "\n",
    "std_acc = np.std(acc)\n",
    "print(f'Mean acc: {mean_acc:.4f} +- {std_acc:.4f}')\n",
    "\n",
    "mean_tpr = np.mean(tprs,axis=0)\n",
    "mean_tpr[-1] = 1.0\n",
    "mean_auc = auc(fpr, mean_tpr)\n",
    "std_auc = np.std(aucs)\n",
    "\n",
    "ax.plot(fpr, mean_tpr, \n",
    "        label=f\"{mean_auc:.3f} +- {std_auc:.3f}\",\n",
    "        color=f'C0')\n",
    "\n",
    "ax.set_title(\"ROC Curve\",fontsize=16)\n",
    "ax.set_xlabel(\"FPR\",fontsize=14)\n",
    "ax.set_ylabel(\"TPR\",fontsize=14)\n",
    "ax.set_xlim([-0.025,1.025])\n",
    "ax.set_ylim([-0.025,1.025])\n",
    "ax.set_aspect('equal')\n",
    "ax.legend(loc=\"best\")\n",
    "fig.tight_layout();"
   ]
  },
  {
   "cell_type": "code",
   "execution_count": null,
   "metadata": {},
   "outputs": [],
   "source": []
  },
  {
   "cell_type": "code",
   "execution_count": null,
   "metadata": {},
   "outputs": [],
   "source": []
  },
  {
   "cell_type": "code",
   "execution_count": null,
   "metadata": {},
   "outputs": [],
   "source": []
  },
  {
   "cell_type": "code",
   "execution_count": null,
   "metadata": {},
   "outputs": [],
   "source": []
  },
  {
   "cell_type": "code",
   "execution_count": 162,
   "metadata": {},
   "outputs": [],
   "source": [
    "clf.fit(X_tr, y, epochs=200, batch_size=32, verbose=0, workers=4)\n",
    "\n",
    "pred = pd.DataFrame()\n",
    "pred['PassengerId'] = sub.index\n",
    "pred['Survived'] = (clf.predict(X_te) > 0.5).astype(int)\n",
    "pred.to_csv('./submissions/keras_dropout.csv',index=False)"
   ]
  },
  {
   "cell_type": "code",
   "execution_count": 163,
   "metadata": {},
   "outputs": [
    {
     "name": "stdout",
     "output_type": "stream",
     "text": [
      "100%|██████████████████████████████████████| 2.77k/2.77k [00:01<00:00, 2.01kB/s]\n",
      "Successfully submitted to Titanic: Machine Learning from Disaster"
     ]
    }
   ],
   "source": [
    "!kaggle competitions submit -c titanic -f ./submissions/keras_dropout.csv -m \"keras dropout\""
   ]
  },
  {
   "cell_type": "code",
   "execution_count": null,
   "metadata": {},
   "outputs": [],
   "source": []
  }
 ],
 "metadata": {
  "kernelspec": {
   "display_name": "Python [conda env:tf] *",
   "language": "python",
   "name": "conda-env-tf-py"
  },
  "language_info": {
   "codemirror_mode": {
    "name": "ipython",
    "version": 3
   },
   "file_extension": ".py",
   "mimetype": "text/x-python",
   "name": "python",
   "nbconvert_exporter": "python",
   "pygments_lexer": "ipython3",
   "version": "3.7.8"
  }
 },
 "nbformat": 4,
 "nbformat_minor": 4
}
